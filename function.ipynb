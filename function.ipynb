{
  "nbformat": 4,
  "nbformat_minor": 0,
  "metadata": {
    "colab": {
      "provenance": [],
      "authorship_tag": "ABX9TyN9H8UGI422i4wLVUi+O+Bn",
      "include_colab_link": true
    },
    "kernelspec": {
      "name": "python3",
      "display_name": "Python 3"
    },
    "language_info": {
      "name": "python"
    }
  },
  "cells": [
    {
      "cell_type": "markdown",
      "metadata": {
        "id": "view-in-github",
        "colab_type": "text"
      },
      "source": [
        "<a href=\"https://colab.research.google.com/github/gouravkumargd79/function/blob/main/function.ipynb\" target=\"_parent\"><img src=\"https://colab.research.google.com/assets/colab-badge.svg\" alt=\"Open In Colab\"/></a>"
      ]
    },
    {
      "cell_type": "code",
      "execution_count": 1,
      "metadata": {
        "colab": {
          "base_uri": "https://localhost:8080/"
        },
        "id": "8UW_JgFY9xRh",
        "outputId": "1a6918f6-0445-46a8-87d3-cd43f28d7826"
      },
      "outputs": [
        {
          "output_type": "stream",
          "name": "stdout",
          "text": [
            "Hello\n"
          ]
        }
      ],
      "source": [
        "# Q1. What is the difference between a function and a method in Python?\n",
        "\n",
        "# Function: A function is a block of code that is defined using the def keyword and can be called independently to perform a specific task. It can be standalone and is not bound to any object.\n",
        "\n",
        "def add(a, b):\n",
        "    return a + b\n",
        "\n",
        "# Method: A method is a function that is associated with an object, and it operates on that object's data. Methods are called on objects, and they typically work with instance data.\n",
        "\n",
        "class MyClass:\n",
        "    def greet(self):\n",
        "        print(\"Hello\")\n",
        "\n",
        "obj = MyClass()\n",
        "obj.greet()"
      ]
    },
    {
      "cell_type": "code",
      "source": [
        "# Q2. Explain the concept of function arguments and parameters in Python.\n",
        "\n",
        "# Parameters are variables listed in the function definition.\n",
        "# Arguments are the actual values passed to the function when calling it.\n",
        "\n",
        "def greet(name):\n",
        "    print(f\"Hello, {name}\")\n",
        "\n",
        "greet(\"Alice\")"
      ],
      "metadata": {
        "id": "F2V3BLD7_gPe"
      },
      "execution_count": null,
      "outputs": []
    },
    {
      "cell_type": "code",
      "source": [
        "# Q3. What are the different ways to define and call a function in Python?\n",
        "\n",
        "# Normal function definition:\n",
        "\n",
        "def function_name():\n",
        "\n",
        "# Lambda function (Anonymous function):\n",
        "\n",
        " add = lambda x, y: x + y\n",
        "print(add(2, 3))  # 5\n",
        "\n",
        "# Calling a function:\n",
        "\n",
        "# function_name()  # Without arguments\n",
        "# function_name(arg1, arg2)  # With arguments"
      ],
      "metadata": {
        "colab": {
          "base_uri": "https://localhost:8080/"
        },
        "id": "9shEQVLf_ijS",
        "outputId": "fe95f873-2e50-48de-c458-13fc18842f89"
      },
      "execution_count": 3,
      "outputs": [
        {
          "output_type": "stream",
          "name": "stdout",
          "text": [
            "5\n"
          ]
        }
      ]
    },
    {
      "cell_type": "code",
      "source": [
        "# Q4. What is the purpose of the return statement in a Python function?\n",
        "\n",
        "# The return statement is used to exit a function and pass a value back to the caller. If there is no return, the function returns None by default.\n",
        "\n",
        "def add(a, b):\n",
        "    return a + b"
      ],
      "metadata": {
        "id": "w1ON67UT_lNq"
      },
      "execution_count": null,
      "outputs": []
    },
    {
      "cell_type": "code",
      "source": [
        "# Q5. What are iterators in Python and how do they differ from iterables?\n",
        "\n",
        "# Iterable: An object capable of returning its members one at a time, permitting it to be iterated over in a for-loop (e.g., lists, tuples).\n",
        "# Iterator: An object representing a stream of data that can be traversed, or iterated, using next(). It must implement the __iter__() and __next__() methods.\n",
        "\n",
        "my_list = [1, 2, 3]\n",
        "my_iter = iter(my_list)  # Create an iterator\n",
        "print(next(my_iter))  # 1"
      ],
      "metadata": {
        "id": "kQDLayxL_ntR"
      },
      "execution_count": null,
      "outputs": []
    },
    {
      "cell_type": "code",
      "source": [
        "# Q6. Explain the concept of generators in Python and how they are defined.\n",
        "\n",
        "# Generator: A generator is a special type of iterator that is defined using a function with the yield keyword. When a generator function is called, it returns an iterator, and execution of the function pauses at each yield statement, resuming from that point when next() is called.\n",
        "\n",
        "def count_up_to(max):\n",
        "    count = 1\n",
        "    while count <= max:\n",
        "        yield count\n",
        "        count += 1\n",
        "\n",
        "counter = count_up_to(5)\n",
        "for num in counter:\n",
        "    print(num)"
      ],
      "metadata": {
        "id": "CBfTShLY_pUL"
      },
      "execution_count": null,
      "outputs": []
    },
    {
      "cell_type": "code",
      "source": [
        "# Q7. What are the advantages of using generators over regular functions?\n",
        "\n",
        "# Memory Efficiency: Generators do not store the entire sequence in memory; they yield one item at a time.\n",
        "# Lazy Evaluation: They generate items only when required, making them more efficient for large data sets or infinite sequences."
      ],
      "metadata": {
        "id": "yGzp9ST-_rDl"
      },
      "execution_count": null,
      "outputs": []
    },
    {
      "cell_type": "code",
      "source": [
        "# Q8. What is a lambda function in Python and when is it typically used?\n",
        "\n",
        "# A lambda function is a small anonymous function defined using the lambda keyword. It is typically used for short, throwaway functions, often used in places where a full function definition would be syntactically overkill.\n",
        "\n",
        "square = lambda x: x * x\n",
        "print(square(4))"
      ],
      "metadata": {
        "id": "NkKIGHf5_sdp"
      },
      "execution_count": null,
      "outputs": []
    },
    {
      "cell_type": "code",
      "source": [
        "# Q9. Explain the purpose and usage of the map() function in Python.\n",
        "\n",
        "# The map() function applies a given function to all items in an iterable (e.g., list, tuple) and returns a map object (which is an iterator).\n",
        "\n",
        "numbers = [1, 2, 3]\n",
        "squared = map(lambda x: x * x, numbers)\n",
        "print(list(squared))"
      ],
      "metadata": {
        "id": "CmnYP5bX_tvT"
      },
      "execution_count": null,
      "outputs": []
    },
    {
      "cell_type": "code",
      "source": [
        "# Q10. What is the difference between map(), reduce(), and filter() functions in Python?\n",
        "\n",
        "# map(): Applies a function to all items in an iterable and returns an iterator of the results.\n",
        "# reduce(): Reduces a sequence of values to a single value by applying a binary function cumulatively. It is part of the functools module.\n",
        "# filter(): Filters elements from an iterable based on a function that returns True or False.\n",
        "\n",
        "from functools import reduce\n",
        "\n",
        "numbers = [1, 2, 3, 4]\n",
        "result = reduce(lambda x, y: x + y, numbers)\n",
        "print(result)"
      ],
      "metadata": {
        "id": "sEWwT5v-_vJE"
      },
      "execution_count": null,
      "outputs": []
    },
    {
      "cell_type": "code",
      "source": [
        "# Q11. Using pen & Paper write the internal mechanism for sum operation using  reduce function on this given\n",
        "#      list:[47,11,42,13];\n",
        "\n",
        "''' Internal Mechanism of Sum Operation Using reduce() Function on the List [47, 11, 42, 13]:\n",
        "\n",
        "Initial List: [47, 11, 42, 13]\n",
        "Process: The reduce() function iteratively applies the lambda function to pairs of elements from the list, reducing them to a single value:\n",
        "47 and 11 are added: 47 + 11 = 58\n",
        "58 and 42 are added: 58 + 42 = 100\n",
        "100 and 13 are added: 100 + 13 = 113\n",
        "The final result is 113.'''"
      ],
      "metadata": {
        "id": "ffBQ7-ZO_w0-"
      },
      "execution_count": null,
      "outputs": []
    },
    {
      "cell_type": "code",
      "source": [
        "# Q1. Write a Python function that takes a list of numbers as input and returns the sum of all even numbers in the list.\n",
        "\n",
        "def funct(li):\n",
        "    sum=0\n",
        "    for i in li:\n",
        "        if i%2==0:\n",
        "            sum=sum+i\n",
        "    return sum\n",
        "\n",
        "funct([1,2,3,4,5,6,7,8,9,10])"
      ],
      "metadata": {
        "id": "wbu80WL4-0pe"
      },
      "execution_count": null,
      "outputs": []
    },
    {
      "cell_type": "code",
      "source": [
        "# Q2. Create a Python function that accepts a string and returns the reverse of that string.\n",
        "\n",
        "def funct(st):\n",
        "  return st[::-1]\n",
        "\n",
        "funct(\"pwskills\")"
      ],
      "metadata": {
        "colab": {
          "base_uri": "https://localhost:8080/",
          "height": 36
        },
        "id": "_nTtAS4w-K1d",
        "outputId": "aa5c7e14-6c1b-4729-a008-3b30541f2f68"
      },
      "execution_count": null,
      "outputs": [
        {
          "output_type": "execute_result",
          "data": {
            "text/plain": [
              "'sllikswp'"
            ],
            "application/vnd.google.colaboratory.intrinsic+json": {
              "type": "string"
            }
          },
          "metadata": {},
          "execution_count": 2
        }
      ]
    },
    {
      "cell_type": "code",
      "source": [
        "# Q3. Implement a Python function that takes a list of integers and returns a new list containing the squares of each number.\n",
        "\n",
        "def funct(li):\n",
        "  return [i**2 for i in li]\n",
        "\n",
        "funct([1,2,3,4,5])"
      ],
      "metadata": {
        "colab": {
          "base_uri": "https://localhost:8080/"
        },
        "id": "Xu3UDB4N_MXL",
        "outputId": "a19e8553-a72b-4f0d-b5db-b307cfd1d752"
      },
      "execution_count": null,
      "outputs": [
        {
          "output_type": "execute_result",
          "data": {
            "text/plain": [
              "[1, 4, 9, 16, 25]"
            ]
          },
          "metadata": {},
          "execution_count": 3
        }
      ]
    },
    {
      "cell_type": "code",
      "source": [
        "# Q4. Write a Python function that checks if a given number is prime or not from 1 to 200.\n",
        "\n",
        "def funct1(n):\n",
        "  if n<2:\n",
        "    return False\n",
        "  for i in range(2,n):\n",
        "    if n%i==0:\n",
        "      return False\n",
        "  return True\n",
        "\n",
        "funct1(2)"
      ],
      "metadata": {
        "colab": {
          "base_uri": "https://localhost:8080/"
        },
        "id": "mwLZ8B8p_geG",
        "outputId": "831cad86-a6ca-4e3f-ddda-cb69246ab38b"
      },
      "execution_count": null,
      "outputs": [
        {
          "output_type": "execute_result",
          "data": {
            "text/plain": [
              "True"
            ]
          },
          "metadata": {},
          "execution_count": 7
        }
      ]
    },
    {
      "cell_type": "code",
      "source": [
        "# Q5. Create an iterator class in Python that generates the Fibonacci sequence up to a specified number of terms.\n",
        "\n",
        "def funct(n):\n",
        "  a,b=0,1\n",
        "  for i in range(n):\n",
        "    yield a\n",
        "    a,b=b,a+b\n",
        "\n",
        "for i in funct(10):\n",
        "  print(i)\n",
        "\n",
        "funct(5)"
      ],
      "metadata": {
        "colab": {
          "base_uri": "https://localhost:8080/"
        },
        "id": "OyZ4XE5W_1rw",
        "outputId": "27034545-cff9-4515-fb76-308b4c74e894"
      },
      "execution_count": null,
      "outputs": [
        {
          "output_type": "stream",
          "name": "stdout",
          "text": [
            "0\n",
            "1\n",
            "1\n",
            "2\n",
            "3\n",
            "5\n",
            "8\n",
            "13\n",
            "21\n",
            "34\n"
          ]
        },
        {
          "output_type": "execute_result",
          "data": {
            "text/plain": [
              "<generator object funct at 0x78aa9daea110>"
            ]
          },
          "metadata": {},
          "execution_count": 11
        }
      ]
    },
    {
      "cell_type": "code",
      "source": [
        "# Q6. Write a generator function in Python that yields the powers of 2 up to a given exponent.\n",
        "\n",
        "def powers_of_2(exponent):\n",
        "    for i in range(exponent + 1):\n",
        "        yield 2 ** i\n",
        "\n",
        "for power in powers_of_2(5):\n",
        "    print(power)"
      ],
      "metadata": {
        "id": "zeRkmSxkAXpR",
        "colab": {
          "base_uri": "https://localhost:8080/"
        },
        "outputId": "3d570e6f-cca8-4f39-de37-e13cc37216e3"
      },
      "execution_count": null,
      "outputs": [
        {
          "output_type": "stream",
          "name": "stdout",
          "text": [
            "1\n",
            "2\n",
            "4\n",
            "8\n",
            "16\n",
            "32\n"
          ]
        }
      ]
    },
    {
      "cell_type": "code",
      "source": [
        "# Q7. Implement a generator function that reads a file line by line and yields each line as a string.\n",
        "\n",
        "def read_file_line_by_line(file_path):\n",
        "    with open(file_path, 'r') as file:\n",
        "        for line in file:\n",
        "            yield line.strip()"
      ],
      "metadata": {
        "id": "-A_qw8fxzEXZ"
      },
      "execution_count": null,
      "outputs": []
    },
    {
      "cell_type": "code",
      "source": [
        "# Q8. Use a lambda function in Python to sort a list of tuples based on the second element of each tuple.\n",
        "\n",
        "tuple_list = [(1, 3), (2, 1), (4, 2), (3, 4)]\n",
        "sorted_list = sorted(tuple_list, key=lambda x: x[1])\n",
        "print(sorted_list)"
      ],
      "metadata": {
        "colab": {
          "base_uri": "https://localhost:8080/"
        },
        "id": "prJaaF4Mzq1p",
        "outputId": "19e5a7c3-08a6-4de3-a148-a4dbb60612fa"
      },
      "execution_count": null,
      "outputs": [
        {
          "output_type": "stream",
          "name": "stdout",
          "text": [
            "[(2, 1), (4, 2), (1, 3), (3, 4)]\n"
          ]
        }
      ]
    },
    {
      "cell_type": "code",
      "source": [
        "# Q9. Write a Python program that uses `map()` to convert a list of temperatures from Celsius to Fahrenheit.\n",
        "\n",
        "# We can use the map() function to apply a conversion formula to each element of a list. The formula to convert Celsius to Fahrenheit is:\n",
        "\n",
        "#𝐹=(9/5×𝐶)+32\n",
        "\n",
        "# Here’s the program:\n",
        "\n",
        "# List of temperatures in Celsius\n",
        "celsius_temperatures = [0, 25, 30, 35, 40]\n",
        "\n",
        "# Function to convert Celsius to Fahrenheit\n",
        "def celsius_to_fahrenheit(celsius):\n",
        "    return (celsius * 9/5) + 32\n",
        "\n",
        "# Using map() to apply the conversion to each temperature in the list\n",
        "fahrenheit_temperatures = list(map(celsius_to_fahrenheit, celsius_temperatures))\n",
        "\n",
        "# Display the result\n",
        "print(fahrenheit_temperatures)"
      ],
      "metadata": {
        "id": "hlIu9O2V0ArG"
      },
      "execution_count": null,
      "outputs": []
    },
    {
      "cell_type": "code",
      "source": [
        "# Q10. Create a Python program that uses `filter()` to remove all the vowels from a given string.\n",
        "\n",
        "# We can use the filter() function to filter out vowels from the string. First, we need to define a function that returns True if a character is not a vowel, and False otherwise.\n",
        "\n",
        "# Here’s the program:\n",
        "\n",
        "# Given string\n",
        "input_string = \"Hello, World!\"\n",
        "\n",
        "# Function to check if a character is not a vowel\n",
        "def is_not_vowel(char):\n",
        "    return char.lower() not in 'aeiou'\n",
        "\n",
        "# Using filter() to remove vowels from the string\n",
        "filtered_string = ''.join(filter(is_not_vowel, input_string))\n",
        "\n",
        "# Display the result\n",
        "print(filtered_string)"
      ],
      "metadata": {
        "id": "GYcXlwj-CKVj"
      },
      "execution_count": null,
      "outputs": []
    }
  ]
}